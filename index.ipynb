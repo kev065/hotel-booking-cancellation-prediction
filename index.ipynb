{
 "cells": [
  {
   "cell_type": "markdown",
   "metadata": {},
   "source": [
    "# Hotel Booking Cancellation Prediction"
   ]
  },
  {
   "cell_type": "markdown",
   "metadata": {},
   "source": [
    "![\"Image of hotel resort in the mountains with a swimming pool in the foreground\"](images/hotel-pool.jpg)"
   ]
  },
  {
   "cell_type": "markdown",
   "metadata": {},
   "source": [
    "## Overview"
   ]
  },
  {
   "cell_type": "markdown",
   "metadata": {},
   "source": [
    "This project aims to develop a predictive model that can forecast hotel booking cancellations based on historical data. The model will be trained [this dataset](https://www.kaggle.com/datasets/ahsan81/hotel-reservations-classification-dataset) obtained from Kaggle, which contains a large number of hotel reservations made by customers. The primary objective of this project is to build a machine learning model that can accurately predict the likelihood of a hotel booking being cancelled. This information can be valuable for hotels as it allows them to make informed decisions about their inventory management, staff scheduling, and revenue optimization strategies.\n",
    "\n",
    "The project will involve several steps, including data cleaning, exploratory data analysis, feature engineering, model selection, and evaluation. The performance of the model will be measured using metrics such as accuracy, precision, recall, and F1-score.\n",
    "\n",
    "Throughout this project, we will also explore the relationships between different variables and their impact on booking cancellations. This will help us to gain insights into the factors that contribute to cancellations and to identify potential areas for improvement. Overall, this project has the potential to provide valuable insights and practical applications for the hospitality industry. By developing a predictive model that can accurately forecast booking cancellations, hotels can better manage their resources, improve customer satisfaction, and increase revenue."
   ]
  },
  {
   "cell_type": "markdown",
   "metadata": {},
   "source": [
    "## Business Understanding"
   ]
  },
  {
   "cell_type": "markdown",
   "metadata": {},
   "source": [
    "The hospitality industry is a highly competitive market, with hotels constantly striving to optimize their revenue and improve customer satisfaction. One of the major challenges faced by hotels is managing cancellations, which can result in lost revenue and reduced occupancy rates.\n",
    "\n",
    "According to a [recent study](https://www.hotelmanagement.net/tech/study-cancelation-rate-at-40-as-otas-push-free-change-policy), average hotel cancellations have risen to at least 40% of overall bookings. This highlights the need for a predictive model that can accurately forecast booking cancellations. By building a predictive model that can accurately forecast booking cancellations, hotels can take proactive measures to minimize the impact of cancellations on their revenue. For example, they can offer discounts or special promotions to customers who are likely to cancel their bookings, or they can allocate resources more efficiently by adjusting their staff scheduling and inventory management strategies based on the predicted cancellation rates.\n",
    "\n",
    "Overall, the business value of this project lies in its ability to help hotels improve their revenue optimization strategies, increase customer satisfaction, and reduce the financial impact of booking cancellations. By developing a predictive model that can accurately forecast booking cancellations, hotels can gain a competitive edge in the highly competitive hospitality industry."
   ]
  },
  {
   "cell_type": "markdown",
   "metadata": {},
   "source": [
    "## Data Understanding"
   ]
  },
  {
   "cell_type": "markdown",
   "metadata": {},
   "source": [
    "To achieve this objective, I have utilized the Hotel Reservations [Dataset](https://www.kaggle.com/datasets/ahsan81/hotel-reservations-classification-dataset) obtained from Kaggle. The dataset contains information about hotel bookings made by customers, including various features such as the number of adults and children, the type of meal plan, the requirement for a car parking space, the type of room reserved, the lead time, the arrival date, the market segment type, and whether the booking was cancelled or not.\n",
    "\n",
    "The dataset consists of 32,000 rows and 19 columns, with each row representing a unique booking. The target variable is the `booking_status` column, which indicates whether the booking was cancelled (1) or not (0).\n",
    "\n",
    "The dataset includes the following features:\n",
    "- Booking_ID: unique identifier of each booking\n",
    "- no_of_adults: Number of adults\n",
    "- no_of_children: Number of Children\n",
    "- no_of_weekend_nights: Number of weekend nights (Saturday or Sunday) the guest stayed or booked to stay at the hotel\n",
    "- no_of_week_nights: Number of week nights (Monday to Friday) the guest stayed or booked to stay at the hotel\n",
    "- type_of_meal_plan: Type of meal plan booked by the customer:\n",
    "- required_car_parking_space: Does the customer require a car parking space? (0 - No, 1- Yes)\n",
    "- room_type_reserved: Type of room reserved by the customer. The values are ciphered (encoded) by INN Hotels.\n",
    "- lead_time: Number of days between the date of booking and the arrival date\n",
    "- arrival_year: Year of arrival date\n",
    "- arrival_month: Month of arrival date\n",
    "- arrival_date: Date of the month\n",
    "- market_segment_type: Market segment designation.\n",
    "- repeated_guest: Is the customer a repeated guest? (0 - No, 1- Yes)\n",
    "- no_of_previous_cancellations: Number of previous bookings that were canceled by the customer prior to the current booking\n",
    "- no_of_previous_bookings_not_canceled: Number of previous bookings not canceled by the customer prior to the current booking\n",
    "- avg_price_per_room: Average price per day of the reservation; prices of the rooms are dynamic. (in euros)\n",
    "- no_of_special_requests: Total number of special requests made by the customer (e.g. high floor, view from the room, etc)\n",
    "- booking_status: Flag indicating if the booking was canceled or not."
   ]
  },
  {
   "cell_type": "code",
   "execution_count": 1,
   "metadata": {},
   "outputs": [],
   "source": [
    "# Importing packages\n",
    "import pandas as pd\n",
    "import numpy as np\n",
    "import matplotlib.pyplot as plt\n",
    "import seaborn as sns\n",
    "\n",
    "sns.set_theme(style=\"whitegrid\")\n",
    "%matplotlib inline"
   ]
  }
 ],
 "metadata": {
  "kernelspec": {
   "display_name": "learn-env",
   "language": "python",
   "name": "python3"
  },
  "language_info": {
   "codemirror_mode": {
    "name": "ipython",
    "version": 3
   },
   "file_extension": ".py",
   "mimetype": "text/x-python",
   "name": "python",
   "nbconvert_exporter": "python",
   "pygments_lexer": "ipython3",
   "version": "3.10.14"
  }
 },
 "nbformat": 4,
 "nbformat_minor": 2
}
