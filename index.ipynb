{
 "cells": [
  {
   "cell_type": "markdown",
   "metadata": {},
   "source": [
    "# Hotel Booking Cancellation Prediction"
   ]
  },
  {
   "cell_type": "markdown",
   "metadata": {},
   "source": [
    "![\"Image of hotel resort in the mountains with a swimming pool in the foreground\"](images/hotel-pool.jpg)"
   ]
  },
  {
   "cell_type": "markdown",
   "metadata": {},
   "source": [
    "## Overview"
   ]
  },
  {
   "cell_type": "markdown",
   "metadata": {},
   "source": [
    "This project aims to develop a predictive model that can forecast hotel booking cancellations based on historical data. The model will be trained [this dataset](https://www.kaggle.com/datasets/ahsan81/hotel-reservations-classification-dataset) obtained from Kaggle, which contains a large number of hotel reservations made by customers. The primary objective of this project is to build a machine learning model that can accurately predict the likelihood of a hotel booking being cancelled. This information can be valuable for hotels as it allows them to make informed decisions about their inventory management, staff scheduling, and revenue optimization strategies.\n",
    "\n",
    "The project will involve several steps, including data cleaning, exploratory data analysis, feature engineering, model selection, and evaluation. The performance of the model will be measured using metrics such as accuracy, precision, recall, and F1-score.\n",
    "\n",
    "Throughout this project, we will also explore the relationships between different variables and their impact on booking cancellations. This will help us to gain insights into the factors that contribute to cancellations and to identify potential areas for improvement. Overall, this project has the potential to provide valuable insights and practical applications for the hospitality industry. By developing a predictive model that can accurately forecast booking cancellations, hotels can better manage their resources, improve customer satisfaction, and increase revenue."
   ]
  },
  {
   "cell_type": "markdown",
   "metadata": {},
   "source": [
    "## Business Understanding"
   ]
  },
  {
   "cell_type": "markdown",
   "metadata": {},
   "source": [
    "The hospitality industry is a highly competitive market, with hotels constantly striving to optimize their revenue and improve customer satisfaction. One of the major challenges faced by hotels is managing cancellations, which can result in lost revenue and reduced occupancy rates.\n",
    "\n",
    "According to a [recent study](https://www.hotelmanagement.net/tech/study-cancelation-rate-at-40-as-otas-push-free-change-policy), average hotel cancellations have risen to at least 40% of overall bookings. This highlights the need for a predictive model that can accurately forecast booking cancellations. By building a predictive model that can accurately forecast booking cancellations, hotels can take proactive measures to minimize the impact of cancellations on their revenue. For example, they can offer discounts or special promotions to customers who are likely to cancel their bookings, or they can allocate resources more efficiently by adjusting their staff scheduling and inventory management strategies based on the predicted cancellation rates.\n",
    "\n",
    "Overall, the business value of this project lies in its ability to help hotels improve their revenue optimization strategies, increase customer satisfaction, and reduce the financial impact of booking cancellations. By developing a predictive model that can accurately forecast booking cancellations, hotels can gain a competitive edge in the highly competitive hospitality industry."
   ]
  },
  {
   "cell_type": "markdown",
   "metadata": {},
   "source": [
    "## Data Understanding"
   ]
  },
  {
   "cell_type": "markdown",
   "metadata": {},
   "source": [
    "To achieve this objective, I have utilized the Hotel Reservations [Dataset](https://www.kaggle.com/datasets/ahsan81/hotel-reservations-classification-dataset) obtained from Kaggle. The dataset contains information about hotel bookings made by customers, including various features such as the number of adults and children, the type of meal plan, the requirement for a car parking space, the type of room reserved, the lead time, the arrival date, the market segment type, and whether the booking was cancelled or not.\n",
    "\n",
    "The dataset consists of 36,275 rows and 19 columns, with each row representing a unique booking. The target variable will be the `booking_status` column, which indicates whether the booking was cancelled (1) or not (0).\n",
    "\n",
    "The dataset includes the following features:\n",
    "- Booking_ID: unique identifier of each booking\n",
    "- no_of_adults: Number of adults\n",
    "- no_of_children: Number of Children\n",
    "- no_of_weekend_nights: Number of weekend nights (Saturday or Sunday) the guest stayed or booked to stay at the hotel\n",
    "- no_of_week_nights: Number of week nights (Monday to Friday) the guest stayed or booked to stay at the hotel\n",
    "- type_of_meal_plan: Type of meal plan booked by the customer:\n",
    "- required_car_parking_space: Does the customer require a car parking space? (0 - No, 1- Yes)\n",
    "- room_type_reserved: Type of room reserved by the customer. The values are ciphered (encoded) by INN Hotels.\n",
    "- lead_time: Number of days between the date of booking and the arrival date\n",
    "- arrival_year: Year of arrival date\n",
    "- arrival_month: Month of arrival date\n",
    "- arrival_date: Date of the month\n",
    "- market_segment_type: Market segment designation.\n",
    "- repeated_guest: Is the customer a repeated guest? (0 - No, 1- Yes)\n",
    "- no_of_previous_cancellations: Number of previous bookings that were canceled by the customer prior to the current booking\n",
    "- no_of_previous_bookings_not_canceled: Number of previous bookings not canceled by the customer prior to the current booking\n",
    "- avg_price_per_room: Average price per day of the reservation; prices of the rooms are dynamic. (in euros)\n",
    "- no_of_special_requests: Total number of special requests made by the customer (e.g. high floor, view from the room, etc)\n",
    "- booking_status: Flag indicating if the booking was canceled or not."
   ]
  },
  {
   "cell_type": "code",
   "execution_count": 1,
   "metadata": {},
   "outputs": [],
   "source": [
    "# Importing packages\n",
    "import pandas as pd\n",
    "import numpy as np\n",
    "import matplotlib.pyplot as plt\n",
    "import seaborn as sns\n",
    "import statsmodels.api as sm\n",
    "from sklearn.linear_model import LogisticRegression, Ridge\n",
    "from sklearn.preprocessing import OneHotEncoder, StandardScaler\n",
    "from sklearn.model_selection import train_test_split\n",
    "\n",
    "sns.set_theme(style=\"whitegrid\")\n",
    "%matplotlib inline"
   ]
  },
  {
   "cell_type": "markdown",
   "metadata": {},
   "source": [
    "### Reading the data"
   ]
  },
  {
   "cell_type": "code",
   "execution_count": 2,
   "metadata": {},
   "outputs": [
    {
     "data": {
      "text/html": [
       "<div>\n",
       "<style scoped>\n",
       "    .dataframe tbody tr th:only-of-type {\n",
       "        vertical-align: middle;\n",
       "    }\n",
       "\n",
       "    .dataframe tbody tr th {\n",
       "        vertical-align: top;\n",
       "    }\n",
       "\n",
       "    .dataframe thead th {\n",
       "        text-align: right;\n",
       "    }\n",
       "</style>\n",
       "<table border=\"1\" class=\"dataframe\">\n",
       "  <thead>\n",
       "    <tr style=\"text-align: right;\">\n",
       "      <th></th>\n",
       "      <th>Booking_ID</th>\n",
       "      <th>no_of_adults</th>\n",
       "      <th>no_of_children</th>\n",
       "      <th>no_of_weekend_nights</th>\n",
       "      <th>no_of_week_nights</th>\n",
       "      <th>type_of_meal_plan</th>\n",
       "      <th>required_car_parking_space</th>\n",
       "      <th>room_type_reserved</th>\n",
       "      <th>lead_time</th>\n",
       "      <th>arrival_year</th>\n",
       "      <th>arrival_month</th>\n",
       "      <th>arrival_date</th>\n",
       "      <th>market_segment_type</th>\n",
       "      <th>repeated_guest</th>\n",
       "      <th>no_of_previous_cancellations</th>\n",
       "      <th>no_of_previous_bookings_not_canceled</th>\n",
       "      <th>avg_price_per_room</th>\n",
       "      <th>no_of_special_requests</th>\n",
       "      <th>booking_status</th>\n",
       "    </tr>\n",
       "  </thead>\n",
       "  <tbody>\n",
       "    <tr>\n",
       "      <th>0</th>\n",
       "      <td>INN00001</td>\n",
       "      <td>2</td>\n",
       "      <td>0</td>\n",
       "      <td>1</td>\n",
       "      <td>2</td>\n",
       "      <td>Meal Plan 1</td>\n",
       "      <td>0</td>\n",
       "      <td>Room_Type 1</td>\n",
       "      <td>224</td>\n",
       "      <td>2017</td>\n",
       "      <td>10</td>\n",
       "      <td>2</td>\n",
       "      <td>Offline</td>\n",
       "      <td>0</td>\n",
       "      <td>0</td>\n",
       "      <td>0</td>\n",
       "      <td>65.00</td>\n",
       "      <td>0</td>\n",
       "      <td>Not_Canceled</td>\n",
       "    </tr>\n",
       "    <tr>\n",
       "      <th>1</th>\n",
       "      <td>INN00002</td>\n",
       "      <td>2</td>\n",
       "      <td>0</td>\n",
       "      <td>2</td>\n",
       "      <td>3</td>\n",
       "      <td>Not Selected</td>\n",
       "      <td>0</td>\n",
       "      <td>Room_Type 1</td>\n",
       "      <td>5</td>\n",
       "      <td>2018</td>\n",
       "      <td>11</td>\n",
       "      <td>6</td>\n",
       "      <td>Online</td>\n",
       "      <td>0</td>\n",
       "      <td>0</td>\n",
       "      <td>0</td>\n",
       "      <td>106.68</td>\n",
       "      <td>1</td>\n",
       "      <td>Not_Canceled</td>\n",
       "    </tr>\n",
       "  </tbody>\n",
       "</table>\n",
       "</div>"
      ],
      "text/plain": [
       "  Booking_ID  no_of_adults  no_of_children  no_of_weekend_nights  \\\n",
       "0   INN00001             2               0                     1   \n",
       "1   INN00002             2               0                     2   \n",
       "\n",
       "   no_of_week_nights type_of_meal_plan  required_car_parking_space  \\\n",
       "0                  2       Meal Plan 1                           0   \n",
       "1                  3      Not Selected                           0   \n",
       "\n",
       "  room_type_reserved  lead_time  arrival_year  arrival_month  arrival_date  \\\n",
       "0        Room_Type 1        224          2017             10             2   \n",
       "1        Room_Type 1          5          2018             11             6   \n",
       "\n",
       "  market_segment_type  repeated_guest  no_of_previous_cancellations  \\\n",
       "0             Offline               0                             0   \n",
       "1              Online               0                             0   \n",
       "\n",
       "   no_of_previous_bookings_not_canceled  avg_price_per_room  \\\n",
       "0                                     0               65.00   \n",
       "1                                     0              106.68   \n",
       "\n",
       "   no_of_special_requests booking_status  \n",
       "0                       0   Not_Canceled  \n",
       "1                       1   Not_Canceled  "
      ]
     },
     "execution_count": 2,
     "metadata": {},
     "output_type": "execute_result"
    }
   ],
   "source": [
    "# Load data\n",
    "df = pd.read_csv('data/Hotel-Reservations.csv')\n",
    "df.head(2)"
   ]
  },
  {
   "cell_type": "markdown",
   "metadata": {},
   "source": [
    "### Tidying the data\n",
    "1. Check data types and figure out which figures are numerical and which are categorical.\n",
    "2. Check for null values.\n",
    "3. Check for duplicate values\n",
    "4. Remove unnecessary columns and missing values"
   ]
  },
  {
   "cell_type": "markdown",
   "metadata": {},
   "source": [
    "I check for null values in the dataset. There are none."
   ]
  },
  {
   "cell_type": "code",
   "execution_count": 3,
   "metadata": {},
   "outputs": [
    {
     "data": {
      "text/plain": [
       "Booking_ID                              0\n",
       "no_of_adults                            0\n",
       "no_of_children                          0\n",
       "no_of_weekend_nights                    0\n",
       "no_of_week_nights                       0\n",
       "type_of_meal_plan                       0\n",
       "required_car_parking_space              0\n",
       "room_type_reserved                      0\n",
       "lead_time                               0\n",
       "arrival_year                            0\n",
       "arrival_month                           0\n",
       "arrival_date                            0\n",
       "market_segment_type                     0\n",
       "repeated_guest                          0\n",
       "no_of_previous_cancellations            0\n",
       "no_of_previous_bookings_not_canceled    0\n",
       "avg_price_per_room                      0\n",
       "no_of_special_requests                  0\n",
       "booking_status                          0\n",
       "dtype: int64"
      ]
     },
     "execution_count": 3,
     "metadata": {},
     "output_type": "execute_result"
    }
   ],
   "source": [
    "# Check for missing values\n",
    "df.isna().sum()"
   ]
  },
  {
   "cell_type": "markdown",
   "metadata": {},
   "source": [
    "I then check for duplicates. There are none. "
   ]
  },
  {
   "cell_type": "code",
   "execution_count": 4,
   "metadata": {},
   "outputs": [
    {
     "data": {
      "text/plain": [
       "0"
      ]
     },
     "execution_count": 4,
     "metadata": {},
     "output_type": "execute_result"
    }
   ],
   "source": [
    "# Check for duplicates\n",
    "df.duplicated().sum()"
   ]
  },
  {
   "cell_type": "code",
   "execution_count": 5,
   "metadata": {},
   "outputs": [
    {
     "data": {
      "text/plain": [
       "Booking_ID                               object\n",
       "no_of_adults                              int64\n",
       "no_of_children                            int64\n",
       "no_of_weekend_nights                      int64\n",
       "no_of_week_nights                         int64\n",
       "type_of_meal_plan                        object\n",
       "required_car_parking_space                int64\n",
       "room_type_reserved                       object\n",
       "lead_time                                 int64\n",
       "arrival_year                              int64\n",
       "arrival_month                             int64\n",
       "arrival_date                              int64\n",
       "market_segment_type                      object\n",
       "repeated_guest                            int64\n",
       "no_of_previous_cancellations              int64\n",
       "no_of_previous_bookings_not_canceled      int64\n",
       "avg_price_per_room                      float64\n",
       "no_of_special_requests                    int64\n",
       "booking_status                           object\n",
       "dtype: object"
      ]
     },
     "execution_count": 5,
     "metadata": {},
     "output_type": "execute_result"
    }
   ],
   "source": [
    "# check the data types\n",
    "df.dtypes"
   ]
  },
  {
   "cell_type": "markdown",
   "metadata": {},
   "source": [
    " The `repeated_guest` feature is represented as an integer, with 0 indicating that the customer is not a repeated guest and 1 indicating that the customer is a repeated guest. However, the nature of this feature suggests that it is categorical in nature, as it represents a binary classification of customers based on their booking history. Therefore, it is appropriate to treat this feature as a categorical variable in the analysis and modeling process. This also applies to the `required_car_parking_space` feature, which is also represented as an integer."
   ]
  },
  {
   "cell_type": "markdown",
   "metadata": {},
   "source": [
    "### Data Preparation"
   ]
  },
  {
   "cell_type": "markdown",
   "metadata": {},
   "source": [
    "1. Convert `booking_status` to numeric - I will convert 'Canceled' to 1 and 'Not_Canceled' to 0."
   ]
  },
  {
   "cell_type": "code",
   "execution_count": 6,
   "metadata": {},
   "outputs": [],
   "source": [
    "# convert values in the column 'booking_status' to 0 and 1\n",
    "df['booking_status'] = df['booking_status'].map({'Not_Canceled': 0, 'Canceled': 1})"
   ]
  },
  {
   "cell_type": "markdown",
   "metadata": {},
   "source": [
    "2. Convert the rest of the categorical features i.e. `type_of_meal_plan`, `market_segment_type`, `room_type_reserved` to numeric values."
   ]
  },
  {
   "cell_type": "code",
   "execution_count": 7,
   "metadata": {},
   "outputs": [
    {
     "name": "stdout",
     "output_type": "stream",
     "text": [
      "Unique values in 'type_of_meal_plan' column:\n",
      "['Meal Plan 1' 'Not Selected' 'Meal Plan 2' 'Meal Plan 3']\n",
      "\n",
      "Unique values in 'market_segment_type' column:\n",
      "['Offline' 'Online' 'Corporate' 'Aviation' 'Complementary']\n",
      "\n",
      "Unique values in 'room_type_reserved' column:\n",
      "['Room_Type 1' 'Room_Type 4' 'Room_Type 2' 'Room_Type 6' 'Room_Type 5'\n",
      " 'Room_Type 7' 'Room_Type 3']\n"
     ]
    }
   ],
   "source": [
    "# Check the unique values in type_of_meal_plan, market_segment_type, \n",
    "# and room_type_reserved\n",
    "meal_plans = df['type_of_meal_plan'].unique()\n",
    "market_segments = df['market_segment_type'].unique()\n",
    "room_types = df['room_type_reserved'].unique()\n",
    "\n",
    "# Print unique values\n",
    "print(\"Unique values in 'type_of_meal_plan' column:\")\n",
    "print(meal_plans)\n",
    "print(\"\\nUnique values in 'market_segment_type' column:\")\n",
    "print(market_segments)\n",
    "print(\"\\nUnique values in 'room_type_reserved' column:\")\n",
    "print(room_types)"
   ]
  },
  {
   "cell_type": "markdown",
   "metadata": {},
   "source": [
    "Next, I convert the categorical features in `type_of_meal_plan`, `market_segment_type`, and `room_type_reserved` to numeric values using `.map()` function because they represent ordinal relationships. "
   ]
  },
  {
   "cell_type": "code",
   "execution_count": 9,
   "metadata": {},
   "outputs": [],
   "source": [
    "# Convert values in the type_of_meal_plan to numerical values\n",
    "df['type_of_meal_plan'] = df['type_of_meal_plan'].map({'Not Selected': 0,\n",
    "                                                             'Meal Plan 1': 1,\n",
    "                                                             'Meal Plan 2': 2,\n",
    "                                                             'Meal Plan 3': 3})\n",
    "\n",
    "# Convert values in the room_type_reserved to numerical values\n",
    "df['room_type_reserved'] = df['room_type_reserved'].map({'Room_Type 1': 1,\n",
    "                                                             'Room_Type 2': 2,\n",
    "                                                             'Room_Type 3': 3,\n",
    "                                                             'Room_Type 4': 4,\n",
    "                                                             'Room_Type 5': 5,\n",
    "                                                             'Room_Type 6': 6,\n",
    "                                                             'Room_Type 7': 7})\n",
    "\n",
    "\n",
    "# Convert values in the market_segment_type to numerical values\n",
    "df['market_segment_type'] = df['market_segment_type'].map({'Offline': 0,\n",
    "                                                             'Online': 1,\n",
    "                                                             'Corporate': 2,\n",
    "                                                             'Complementary': 3,\n",
    "                                                             'Aviation': 4})"
   ]
  },
  {
   "cell_type": "markdown",
   "metadata": {},
   "source": [
    "### Data Transformation"
   ]
  },
  {
   "cell_type": "markdown",
   "metadata": {},
   "source": [
    "First, I'll split the data into train and test sets using the `train_test_split` function from the `sklearn.model_selection` module. This will enable me to estimate how well the model will perform on unseen data later on."
   ]
  },
  {
   "cell_type": "code",
   "execution_count": 10,
   "metadata": {},
   "outputs": [],
   "source": [
    "# split dataset into features and target\n",
    "X = df.drop(['booking_status', 'Booking_ID'], axis=1)\n",
    "y = df['booking_status']"
   ]
  },
  {
   "cell_type": "code",
   "execution_count": 11,
   "metadata": {},
   "outputs": [],
   "source": [
    "# split dataset into train and test sets\n",
    "# set shuffle to True to randomize the dataset\n",
    "X_train, X_test, y_train, y_test = train_test_split(X, y, shuffle=True, random_state=28)"
   ]
  },
  {
   "cell_type": "markdown",
   "metadata": {},
   "source": [
    "Next, I'll scikit-learn's OneHotEncoder to convert `type_of_meal_plan`, `market_segment_type`, `repeated_guest`, `room_type_reserved`, and `required_car_parking_space` into numerical values."
   ]
  },
  {
   "cell_type": "code",
   "execution_count": 12,
   "metadata": {},
   "outputs": [],
   "source": [
    "# Create an instance of OneHotEncoder\n",
    "ohe = OneHotEncoder(drop='first', sparse_output=False)\n",
    "\n",
    "# Create dataframe with only the columns that require One Hot Encoding\n",
    "categorical_train = X_train[['type_of_meal_plan', 'required_car_parking_space', 'room_type_reserved', \n",
    "                          'market_segment_type', 'repeated_guest']].copy()\n",
    "\n",
    "categorical_test = X_test[['type_of_meal_plan', 'required_car_parking_space', 'room_type_reserved', \n",
    "                          'market_segment_type', 'repeated_guest']].copy()\n",
    "\n",
    "# Fit the encoder on the training data and transform it\n",
    "ohe.fit_transform(categorical_train)\n",
    "\n",
    "# Transform the test data\n",
    "ohe.transform(categorical_test)\n",
    "\n",
    "# Create new dataframes with One Hot Encoded columns\n",
    "categorical_train_ohe = pd.DataFrame(data=ohe.transform(categorical_train),\n",
    "                                    columns=ohe.get_feature_names_out(),\n",
    "                                    index=categorical_train.index)\n",
    "\n",
    "categorical_test_ohe = pd.DataFrame(data=ohe.transform(categorical_test),\n",
    "                                   columns=ohe.get_feature_names_out(),\n",
    "                                   index=categorical_test.index)"
   ]
  },
  {
   "cell_type": "markdown",
   "metadata": {},
   "source": [
    "Next I'll scale the data using scikit-learn's `StandardScaler`."
   ]
  },
  {
   "cell_type": "code",
   "execution_count": 13,
   "metadata": {},
   "outputs": [],
   "source": [
    "# create an instance of StandardScaler\n",
    "scaler = StandardScaler()\n",
    "\n",
    "# Create dataframe with only quantitative variables\n",
    "quant_train = X_train[['arrival_year', 'arrival_month', 'arrival_date','no_of_adults', 'no_of_children', \n",
    "                   'no_of_weekend_nights', 'no_of_week_nights', 'lead_time', 'no_of_previous_cancellations', \n",
    "                   'no_of_previous_bookings_not_canceled', 'avg_price_per_room', 'no_of_special_requests']].copy()\n",
    "\n",
    "quant_test = X_test[['arrival_year', 'arrival_month', 'arrival_date','no_of_adults', 'no_of_children', \n",
    "                   'no_of_weekend_nights', 'no_of_week_nights', 'lead_time', 'no_of_previous_cancellations', \n",
    "                   'no_of_previous_bookings_not_canceled', 'avg_price_per_room', 'no_of_special_requests']].copy()\n",
    "\n",
    "# Fit and transform the train data\n",
    "scaler.fit_transform(quant_train)\n",
    "\n",
    "# Transform the test data\n",
    "scaler.transform(quant_test)\n",
    "\n",
    "# Create new dataframes with Scaler columns\n",
    "quant_train_scaler = pd.DataFrame(data=scaler.transform(quant_train),\n",
    "                                  columns=quant_train.columns,\n",
    "                                  index=quant_train.index)\n",
    "\n",
    "quant_test_scaler = pd.DataFrame(data=scaler.transform(quant_test),\n",
    "                                  columns=quant_test.columns,\n",
    "                                  index=quant_test.index)"
   ]
  },
  {
   "cell_type": "code",
   "execution_count": 14,
   "metadata": {},
   "outputs": [
    {
     "data": {
      "text/html": [
       "<div>\n",
       "<style scoped>\n",
       "    .dataframe tbody tr th:only-of-type {\n",
       "        vertical-align: middle;\n",
       "    }\n",
       "\n",
       "    .dataframe tbody tr th {\n",
       "        vertical-align: top;\n",
       "    }\n",
       "\n",
       "    .dataframe thead th {\n",
       "        text-align: right;\n",
       "    }\n",
       "</style>\n",
       "<table border=\"1\" class=\"dataframe\">\n",
       "  <thead>\n",
       "    <tr style=\"text-align: right;\">\n",
       "      <th></th>\n",
       "      <th>arrival_year</th>\n",
       "      <th>arrival_month</th>\n",
       "      <th>arrival_date</th>\n",
       "      <th>no_of_adults</th>\n",
       "      <th>no_of_children</th>\n",
       "      <th>no_of_weekend_nights</th>\n",
       "      <th>no_of_week_nights</th>\n",
       "      <th>lead_time</th>\n",
       "      <th>no_of_previous_cancellations</th>\n",
       "      <th>no_of_previous_bookings_not_canceled</th>\n",
       "      <th>...</th>\n",
       "      <th>room_type_reserved_3</th>\n",
       "      <th>room_type_reserved_4</th>\n",
       "      <th>room_type_reserved_5</th>\n",
       "      <th>room_type_reserved_6</th>\n",
       "      <th>room_type_reserved_7</th>\n",
       "      <th>market_segment_type_1</th>\n",
       "      <th>market_segment_type_2</th>\n",
       "      <th>market_segment_type_3</th>\n",
       "      <th>market_segment_type_4</th>\n",
       "      <th>repeated_guest_1</th>\n",
       "    </tr>\n",
       "  </thead>\n",
       "  <tbody>\n",
       "    <tr>\n",
       "      <th>2947</th>\n",
       "      <td>0.46805</td>\n",
       "      <td>-0.136897</td>\n",
       "      <td>-0.642154</td>\n",
       "      <td>0.298216</td>\n",
       "      <td>2.20181</td>\n",
       "      <td>0.218603</td>\n",
       "      <td>-1.550369</td>\n",
       "      <td>-0.991105</td>\n",
       "      <td>-0.062816</td>\n",
       "      <td>-0.086268</td>\n",
       "      <td>...</td>\n",
       "      <td>0.0</td>\n",
       "      <td>0.0</td>\n",
       "      <td>0.0</td>\n",
       "      <td>0.0</td>\n",
       "      <td>0.0</td>\n",
       "      <td>1.0</td>\n",
       "      <td>0.0</td>\n",
       "      <td>0.0</td>\n",
       "      <td>0.0</td>\n",
       "      <td>0.0</td>\n",
       "    </tr>\n",
       "    <tr>\n",
       "      <th>3033</th>\n",
       "      <td>0.46805</td>\n",
       "      <td>-1.758329</td>\n",
       "      <td>1.423318</td>\n",
       "      <td>-1.635357</td>\n",
       "      <td>-0.26098</td>\n",
       "      <td>1.363639</td>\n",
       "      <td>-0.847614</td>\n",
       "      <td>-0.979430</td>\n",
       "      <td>-0.062816</td>\n",
       "      <td>-0.086268</td>\n",
       "      <td>...</td>\n",
       "      <td>0.0</td>\n",
       "      <td>0.0</td>\n",
       "      <td>0.0</td>\n",
       "      <td>0.0</td>\n",
       "      <td>0.0</td>\n",
       "      <td>1.0</td>\n",
       "      <td>0.0</td>\n",
       "      <td>0.0</td>\n",
       "      <td>0.0</td>\n",
       "      <td>0.0</td>\n",
       "    </tr>\n",
       "    <tr>\n",
       "      <th>30081</th>\n",
       "      <td>0.46805</td>\n",
       "      <td>0.835962</td>\n",
       "      <td>-1.101148</td>\n",
       "      <td>0.298216</td>\n",
       "      <td>4.66460</td>\n",
       "      <td>-0.926433</td>\n",
       "      <td>-0.847614</td>\n",
       "      <td>0.304761</td>\n",
       "      <td>-0.062816</td>\n",
       "      <td>-0.086268</td>\n",
       "      <td>...</td>\n",
       "      <td>0.0</td>\n",
       "      <td>0.0</td>\n",
       "      <td>0.0</td>\n",
       "      <td>0.0</td>\n",
       "      <td>0.0</td>\n",
       "      <td>1.0</td>\n",
       "      <td>0.0</td>\n",
       "      <td>0.0</td>\n",
       "      <td>0.0</td>\n",
       "      <td>0.0</td>\n",
       "    </tr>\n",
       "    <tr>\n",
       "      <th>21861</th>\n",
       "      <td>0.46805</td>\n",
       "      <td>-1.434042</td>\n",
       "      <td>-1.330645</td>\n",
       "      <td>0.298216</td>\n",
       "      <td>-0.26098</td>\n",
       "      <td>1.363639</td>\n",
       "      <td>-0.144860</td>\n",
       "      <td>-0.664220</td>\n",
       "      <td>-0.062816</td>\n",
       "      <td>-0.086268</td>\n",
       "      <td>...</td>\n",
       "      <td>0.0</td>\n",
       "      <td>0.0</td>\n",
       "      <td>0.0</td>\n",
       "      <td>0.0</td>\n",
       "      <td>0.0</td>\n",
       "      <td>1.0</td>\n",
       "      <td>0.0</td>\n",
       "      <td>0.0</td>\n",
       "      <td>0.0</td>\n",
       "      <td>0.0</td>\n",
       "    </tr>\n",
       "    <tr>\n",
       "      <th>11680</th>\n",
       "      <td>0.46805</td>\n",
       "      <td>0.835962</td>\n",
       "      <td>-0.986400</td>\n",
       "      <td>0.298216</td>\n",
       "      <td>-0.26098</td>\n",
       "      <td>-0.926433</td>\n",
       "      <td>-0.144860</td>\n",
       "      <td>-0.827662</td>\n",
       "      <td>-0.062816</td>\n",
       "      <td>-0.086268</td>\n",
       "      <td>...</td>\n",
       "      <td>0.0</td>\n",
       "      <td>1.0</td>\n",
       "      <td>0.0</td>\n",
       "      <td>0.0</td>\n",
       "      <td>0.0</td>\n",
       "      <td>1.0</td>\n",
       "      <td>0.0</td>\n",
       "      <td>0.0</td>\n",
       "      <td>0.0</td>\n",
       "      <td>0.0</td>\n",
       "    </tr>\n",
       "  </tbody>\n",
       "</table>\n",
       "<p>5 rows × 27 columns</p>\n",
       "</div>"
      ],
      "text/plain": [
       "       arrival_year  arrival_month  arrival_date  no_of_adults  \\\n",
       "2947        0.46805      -0.136897     -0.642154      0.298216   \n",
       "3033        0.46805      -1.758329      1.423318     -1.635357   \n",
       "30081       0.46805       0.835962     -1.101148      0.298216   \n",
       "21861       0.46805      -1.434042     -1.330645      0.298216   \n",
       "11680       0.46805       0.835962     -0.986400      0.298216   \n",
       "\n",
       "       no_of_children  no_of_weekend_nights  no_of_week_nights  lead_time  \\\n",
       "2947          2.20181              0.218603          -1.550369  -0.991105   \n",
       "3033         -0.26098              1.363639          -0.847614  -0.979430   \n",
       "30081         4.66460             -0.926433          -0.847614   0.304761   \n",
       "21861        -0.26098              1.363639          -0.144860  -0.664220   \n",
       "11680        -0.26098             -0.926433          -0.144860  -0.827662   \n",
       "\n",
       "       no_of_previous_cancellations  no_of_previous_bookings_not_canceled  \\\n",
       "2947                      -0.062816                             -0.086268   \n",
       "3033                      -0.062816                             -0.086268   \n",
       "30081                     -0.062816                             -0.086268   \n",
       "21861                     -0.062816                             -0.086268   \n",
       "11680                     -0.062816                             -0.086268   \n",
       "\n",
       "       ...  room_type_reserved_3  room_type_reserved_4  room_type_reserved_5  \\\n",
       "2947   ...                   0.0                   0.0                   0.0   \n",
       "3033   ...                   0.0                   0.0                   0.0   \n",
       "30081  ...                   0.0                   0.0                   0.0   \n",
       "21861  ...                   0.0                   0.0                   0.0   \n",
       "11680  ...                   0.0                   1.0                   0.0   \n",
       "\n",
       "       room_type_reserved_6  room_type_reserved_7  market_segment_type_1  \\\n",
       "2947                    0.0                   0.0                    1.0   \n",
       "3033                    0.0                   0.0                    1.0   \n",
       "30081                   0.0                   0.0                    1.0   \n",
       "21861                   0.0                   0.0                    1.0   \n",
       "11680                   0.0                   0.0                    1.0   \n",
       "\n",
       "       market_segment_type_2  market_segment_type_3  market_segment_type_4  \\\n",
       "2947                     0.0                    0.0                    0.0   \n",
       "3033                     0.0                    0.0                    0.0   \n",
       "30081                    0.0                    0.0                    0.0   \n",
       "21861                    0.0                    0.0                    0.0   \n",
       "11680                    0.0                    0.0                    0.0   \n",
       "\n",
       "       repeated_guest_1  \n",
       "2947                0.0  \n",
       "3033                0.0  \n",
       "30081               0.0  \n",
       "21861               0.0  \n",
       "11680               0.0  \n",
       "\n",
       "[5 rows x 27 columns]"
      ]
     },
     "execution_count": 14,
     "metadata": {},
     "output_type": "execute_result"
    }
   ],
   "source": [
    "# Append encoded and scaled columns to X_train_transformed and X_test_transformed\n",
    "# Append one hot encoded data back to dataframe\n",
    "X_train_transformed = pd.concat([quant_train_scaler, categorical_train_ohe], axis=1)\n",
    "\n",
    "X_test_transformed = pd.concat([quant_test_scaler, categorical_test_ohe], axis=1)\n",
    "\n",
    "# Preview new dataframe\n",
    "X_train_transformed.head()"
   ]
  },
  {
   "cell_type": "markdown",
   "metadata": {},
   "source": [
    "### Modeling - Baseline Model"
   ]
  },
  {
   "cell_type": "markdown",
   "metadata": {},
   "source": [
    "First, I'll create a Logistic Regression model using scikit-learn's `LogisticRegression` class. The model will be trained on the `X_train_transformed` and `y_train` data. This baseline model will model the probability of the target variable `booking_status` as a function of the input features, and it can provide insights into the relative importance of each feature in predicting the target."
   ]
  },
  {
   "cell_type": "markdown",
   "metadata": {},
   "source": [
    "Here's the criteria I will use to explain the baseline model metrics:\n",
    "\n",
    "1. Accuracy - The proportion of correct predictions made by the model.\n",
    "2. Precision - The proportion of true positive predictions out of all the positive predictions made by the model.\n",
    "3. Recall - The proportion of true positive predictions out of all the actual positive instances. \n",
    "4. F1 score - The harmonic mean of precision and recall.\n",
    "5. ROC AUC score - The area under the ROC curve, which measures the model's ability to distinguish between positive and negative instances.\n",
    "\n",
    "By evaluating the baseline model using this criteria, we can gain insights into it's performance and identify areas for improvement."
   ]
  },
  {
   "cell_type": "code",
   "execution_count": 15,
   "metadata": {},
   "outputs": [
    {
     "name": "stdout",
     "output_type": "stream",
     "text": [
      "                           Logit Regression Results                           \n",
      "==============================================================================\n",
      "Dep. Variable:         booking_status   No. Observations:                27206\n",
      "Model:                          Logit   Df Residuals:                    27178\n",
      "Method:                           MLE   Df Model:                           27\n",
      "Date:                Tue, 27 Aug 2024   Pseudo R-squ.:                  0.3300\n",
      "Time:                        16:36:40   Log-Likelihood:                -11492.\n",
      "converged:                      False   LL-Null:                       -17153.\n",
      "Covariance Type:            nonrobust   LLR p-value:                     0.000\n",
      "========================================================================================================\n",
      "                                           coef    std err          z      P>|z|      [0.025      0.975]\n",
      "--------------------------------------------------------------------------------------------------------\n",
      "const                                   -2.0257      0.079    -25.741      0.000      -2.180      -1.871\n",
      "arrival_year                             0.1654      0.022      7.404      0.000       0.122       0.209\n",
      "arrival_month                           -0.1303      0.019     -6.774      0.000      -0.168      -0.093\n",
      "arrival_date                             0.0077      0.016      0.467      0.641      -0.025       0.040\n",
      "no_of_adults                             0.0483      0.019      2.558      0.011       0.011       0.085\n",
      "no_of_children                           0.0703      0.023      3.117      0.002       0.026       0.115\n",
      "no_of_weekend_nights                     0.1241      0.017      7.400      0.000       0.091       0.157\n",
      "no_of_week_nights                        0.0437      0.017      2.612      0.009       0.011       0.076\n",
      "lead_time                                1.3397      0.022     60.850      0.000       1.297       1.383\n",
      "no_of_previous_cancellations             0.1078      0.033      3.257      0.001       0.043       0.173\n",
      "no_of_previous_bookings_not_canceled    -0.6915      0.520     -1.330      0.184      -1.711       0.328\n",
      "avg_price_per_room                       0.6570      0.025     26.168      0.000       0.608       0.706\n",
      "no_of_special_requests                  -1.1493      0.023    -50.169      0.000      -1.194      -1.104\n",
      "type_of_meal_plan_1                     -0.2625      0.051     -5.122      0.000      -0.363      -0.162\n",
      "type_of_meal_plan_2                     -0.1087      0.083     -1.311      0.190      -0.271       0.054\n",
      "type_of_meal_plan_3                     13.6536    714.792      0.019      0.985   -1387.312    1414.619\n",
      "required_car_parking_space_1            -1.5448      0.133    -11.640      0.000      -1.805      -1.285\n",
      "room_type_reserved_2                    -0.4500      0.128     -3.511      0.000      -0.701      -0.199\n",
      "room_type_reserved_3                    -0.0681      1.253     -0.054      0.957      -2.525       2.389\n",
      "room_type_reserved_4                    -0.2752      0.052     -5.320      0.000      -0.377      -0.174\n",
      "room_type_reserved_5                    -0.7717      0.201     -3.835      0.000      -1.166      -0.377\n",
      "room_type_reserved_6                    -0.9685      0.144     -6.737      0.000      -1.250      -0.687\n",
      "room_type_reserved_7                    -1.3894      0.298     -4.655      0.000      -1.974      -0.804\n",
      "market_segment_type_1                    1.7612      0.050     35.089      0.000       1.663       1.860\n",
      "market_segment_type_2                    0.9362      0.104      8.989      0.000       0.732       1.140\n",
      "market_segment_type_3                  -53.4346   5.76e+09  -9.27e-09      1.000   -1.13e+10    1.13e+10\n",
      "market_segment_type_4                    2.1964      0.242      9.088      0.000       1.723       2.670\n",
      "repeated_guest_1                        -2.1819      0.633     -3.445      0.001      -3.423      -0.941\n",
      "========================================================================================================\n"
     ]
    },
    {
     "name": "stderr",
     "output_type": "stream",
     "text": [
      "/home/murithi/anaconda3/envs/learn-env/lib/python3.10/site-packages/statsmodels/base/model.py:607: ConvergenceWarning: Maximum Likelihood optimization failed to converge. Check mle_retvals\n",
      "  warnings.warn(\"Maximum Likelihood optimization failed to \"\n"
     ]
    }
   ],
   "source": [
    "# Fit the logistic regression model using sklearn\n",
    "logreg = LogisticRegression(solver='liblinear')\n",
    "logreg.fit(X_train_transformed, y_train)\n",
    "\n",
    "y_pred_train = logreg.predict(X_train_transformed)\n",
    "y_pred_test = logreg.predict(X_test_transformed)\n",
    "\n",
    "# Add a constant to the input features for the intercept\n",
    "X_train_transformed = sm.add_constant(X_train_transformed)\n",
    "\n",
    "# Get the coefficients and intercept from the fitted sklearn model\n",
    "params = np.append(logreg.intercept_, logreg.coef_)\n",
    "\n",
    "# Calculate the p-values using statsmodels\n",
    "logit_model = sm.Logit(y_train, X_train_transformed)\n",
    "result = logit_model.fit(disp=False)\n",
    "\n",
    "# Print the summary\n",
    "print(result.summary())"
   ]
  },
  {
   "cell_type": "markdown",
   "metadata": {},
   "source": [
    "From the printed summary above, we can see that the following features are insignificant in predicting the target variable: `arrival_date`, `no_of_previous_bookings_not_canceled`, `type_of_meal_plan_2`, `type_of_meal_plan_3`, `room_type_reserved_3`, and  `market_segment_type_3`. Therefore, we can remove these features from our model. This will help to simplify the model, reduce multicollinearity, and improve its performance."
   ]
  },
  {
   "cell_type": "markdown",
   "metadata": {},
   "source": [
    "Next, we'll evaluate the performance of our logistic regression model on the training set using scikit-learn's `accuracy_score` and `confusion_matrix` functions. We will calculate the accuracy, precision, AUC score, and the confusion matrix."
   ]
  },
  {
   "cell_type": "code",
   "execution_count": 17,
   "metadata": {},
   "outputs": [],
   "source": [
    "from sklearn.metrics import accuracy_score, precision_score, roc_curve, auc, confusion_matrix, ConfusionMatrixDisplay"
   ]
  },
  {
   "cell_type": "code",
   "execution_count": 18,
   "metadata": {},
   "outputs": [
    {
     "name": "stdout",
     "output_type": "stream",
     "text": [
      "Accuracy is :80.39403072851576\n",
      "\n",
      "Precision is :73.38494394020289\n",
      "\n",
      "AUC is :0.76\n",
      "\n",
      "Confusion Matrix\n",
      "----------------\n"
     ]
    },
    {
     "data": {
      "image/png": "[encoded data removed]",
      "text/plain": [
       "<Figure size 640x480 with 2 Axes>"
      ]
     },
     "metadata": {},
     "output_type": "display_data"
    }
   ],
   "source": [
    "# Evaluation metrics for train set\n",
    "# Calculate accuracy \n",
    "acc = accuracy_score(y_train,y_pred_train) * 100\n",
    "print('Accuracy is :{0}'.format(acc))\n",
    "\n",
    "# Calculate precision \n",
    "prec = precision_score(y_train,y_pred_train) * 100\n",
    "print('\\nPrecision is :{0}'.format(prec))\n",
    "\n",
    "# Check the AUC\n",
    "false_positive_rate, true_positive_rate, thresholds = roc_curve(y_train, y_pred_train)\n",
    "roc_auc = auc(false_positive_rate, true_positive_rate)\n",
    "print('\\nAUC is :{0}'.format(round(roc_auc, 2)))\n",
    "\n",
    "# Create confusion matrix \n",
    "print('\\nConfusion Matrix')\n",
    "print('----------------')\n",
    "cm_train = confusion_matrix(y_train, y_pred_train)\n",
    "\n",
    "cm_train_disp = ConfusionMatrixDisplay(confusion_matrix=cm_train,\n",
    "                                      display_labels=logreg.classes_)\n",
    "cm_train_disp.plot(cmap=plt.cm.Blues);"
   ]
  },
  {
   "cell_type": "code",
   "execution_count": 20,
   "metadata": {},
   "outputs": [
    {
     "name": "stdout",
     "output_type": "stream",
     "text": [
      "Accuracy is :80.41680449884221\n",
      "\n",
      "Precision is :74.73725184896847\n",
      "\n",
      "AUC is :0.76\n",
      "\n",
      "Confusion Matrix\n",
      "----------------\n"
     ]
    },
    {
     "data": {
      "image/png": "[encoded data removed]",
      "text/plain": [
       "<Figure size 640x480 with 2 Axes>"
      ]
     },
     "metadata": {},
     "output_type": "display_data"
    }
   ],
   "source": [
    "# Evaluation metrics for test set\n",
    "# Calculate accuracy \n",
    "acc = accuracy_score(y_test,y_pred_test) * 100\n",
    "print('Accuracy is :{0}'.format(acc))\n",
    "\n",
    "# Calculate precision \n",
    "prec = precision_score(y_test,y_pred_test) * 100\n",
    "print('\\nPrecision is :{0}'.format(prec))\n",
    "\n",
    "# Check the AUC for predictions\n",
    "false_positive_rate, true_positive_rate, thresholds = roc_curve(y_test, y_pred_test)\n",
    "roc_auc = auc(false_positive_rate, true_positive_rate)\n",
    "print('\\nAUC is :{0}'.format(round(roc_auc, 2)))\n",
    "\n",
    "# Create and print a confusion matrix \n",
    "print('\\nConfusion Matrix')\n",
    "print('----------------')\n",
    "cm_test = confusion_matrix(y_test, y_pred_test)\n",
    "\n",
    "cm_test_disp = ConfusionMatrixDisplay(confusion_matrix=cm_test,\n",
    "                                      display_labels=logreg.classes_)\n",
    "cm_test_disp.plot(cmap=plt.cm.Purples);"
   ]
  },
  {
   "cell_type": "markdown",
   "metadata": {},
   "source": [
    "The results for both the train and test sets are quite similar, which is generally a good sign as it suggests that the model is not overfitting or underfitting. \n",
    "\n",
    "- Accuracy: The accuracy values(`80.39%` and `80.42%`) for both the train and test sets are very close, which indicates that the model is performing consistently across different datasets.\n",
    "- Precision: Precision measures how many of the positive predictions were actually correct. The test set shows slightly better precision of `74.74%` as compared to the train set of `73.38%`, which is a positive sign. However, there is still some room for improvement.\n",
    "- AUC: Both the train and test sets have the same AUC of `0.76`, which suggests that the model has a reasonable ability to distinguish between the classes, but it's not exceptionally strong.\n",
    "\n",
    "Overall, I’m moderately satisfied with these results. The model shows consistency between the train and test sets, which is encouraging. However, the performance metrics indicate that there is room for improvement, particularly in precision and AUC."
   ]
  },
  {
   "cell_type": "markdown",
   "metadata": {},
   "source": [
    "To further tune the model, I'll be dropping less significant features to improve model performance."
   ]
  },
  {
   "cell_type": "code",
   "execution_count": 21,
   "metadata": {},
   "outputs": [],
   "source": [
    "# Drop non-significant features\n",
    "X_train_transformed = X_train_transformed.drop(['const', 'arrival_date', 'no_of_previous_bookings_not_canceled', 'type_of_meal_plan_2', \n",
    "                                               'type_of_meal_plan_3', 'room_type_reserved_3', 'market_segment_type_3'], axis=1)\n",
    "\n",
    "X_test_transformed = X_test_transformed.drop(['arrival_date', 'no_of_previous_bookings_not_canceled', 'type_of_meal_plan_2', \n",
    "                                               'type_of_meal_plan_3', 'room_type_reserved_3', 'market_segment_type_3'], axis=1)"
   ]
  },
  {
   "cell_type": "markdown",
   "metadata": {},
   "source": [
    "## Hyperparameter Tuning"
   ]
  },
  {
   "cell_type": "markdown",
   "metadata": {},
   "source": [
    "### Decision Tree Classifier\n",
    "For the Decision Tree Classifier, I'll be experimenting with different hyperparameters, such as the maximum depth of the tree, the minimum samples required to split an internal node, and the criterion used for splitting nodes. By systematically varying these parameters, I aim to improve the model’s accuracy, precision, and overall effectiveness in classifying data. This process will help ensure that the model generalizes well and performs optimally on unseen data."
   ]
  },
  {
   "cell_type": "code",
   "execution_count": 22,
   "metadata": {},
   "outputs": [],
   "source": [
    "from sklearn.tree import DecisionTreeClassifier"
   ]
  },
  {
   "cell_type": "code",
   "execution_count": 23,
   "metadata": {},
   "outputs": [
    {
     "data": {
      "text/html": [
       "<style>#sk-container-id-1 {\n",
       "  /* Definition of color scheme common for light and dark mode */\n",
       "  --sklearn-color-text: black;\n",
       "  --sklearn-color-line: gray;\n",
       "  /* Definition of color scheme for unfitted estimators */\n",
       "  --sklearn-color-unfitted-level-0: #fff5e6;\n",
       "  --sklearn-color-unfitted-level-1: #f6e4d2;\n",
       "  --sklearn-color-unfitted-level-2: #ffe0b3;\n",
       "  --sklearn-color-unfitted-level-3: chocolate;\n",
       "  /* Definition of color scheme for fitted estimators */\n",
       "  --sklearn-color-fitted-level-0: #f0f8ff;\n",
       "  --sklearn-color-fitted-level-1: #d4ebff;\n",
       "  --sklearn-color-fitted-level-2: #b3dbfd;\n",
       "  --sklearn-color-fitted-level-3: cornflowerblue;\n",
       "\n",
       "  /* Specific color for light theme */\n",
       "  --sklearn-color-text-on-default-background: var(--sg-text-color, var(--theme-code-foreground, var(--jp-content-font-color1, black)));\n",
       "  --sklearn-color-background: var(--sg-background-color, var(--theme-background, var(--jp-layout-color0, white)));\n",
       "  --sklearn-color-border-box: var(--sg-text-color, var(--theme-code-foreground, var(--jp-content-font-color1, black)));\n",
       "  --sklearn-color-icon: #696969;\n",
       "\n",
       "  @media (prefers-color-scheme: dark) {\n",
       "    /* Redefinition of color scheme for dark theme */\n",
       "    --sklearn-color-text-on-default-background: var(--sg-text-color, var(--theme-code-foreground, var(--jp-content-font-color1, white)));\n",
       "    --sklearn-color-background: var(--sg-background-color, var(--theme-background, var(--jp-layout-color0, #111)));\n",
       "    --sklearn-color-border-box: var(--sg-text-color, var(--theme-code-foreground, var(--jp-content-font-color1, white)));\n",
       "    --sklearn-color-icon: #878787;\n",
       "  }\n",
       "}\n",
       "\n",
       "#sk-container-id-1 {\n",
       "  color: var(--sklearn-color-text);\n",
       "}\n",
       "\n",
       "#sk-container-id-1 pre {\n",
       "  padding: 0;\n",
       "}\n",
       "\n",
       "#sk-container-id-1 input.sk-hidden--visually {\n",
       "  border: 0;\n",
       "  clip: rect(1px 1px 1px 1px);\n",
       "  clip: rect(1px, 1px, 1px, 1px);\n",
       "  height: 1px;\n",
       "  margin: -1px;\n",
       "  overflow: hidden;\n",
       "  padding: 0;\n",
       "  position: absolute;\n",
       "  width: 1px;\n",
       "}\n",
       "\n",
       "#sk-container-id-1 div.sk-dashed-wrapped {\n",
       "  border: 1px dashed var(--sklearn-color-line);\n",
       "  margin: 0 0.4em 0.5em 0.4em;\n",
       "  box-sizing: border-box;\n",
       "  padding-bottom: 0.4em;\n",
       "  background-color: var(--sklearn-color-background);\n",
       "}\n",
       "\n",
       "#sk-container-id-1 div.sk-container {\n",
       "  /* jupyter's `normalize.less` sets `[hidden] { display: none; }`\n",
       "     but bootstrap.min.css set `[hidden] { display: none !important; }`\n",
       "     so we also need the `!important` here to be able to override the\n",
       "     default hidden behavior on the sphinx rendered scikit-learn.org.\n",
       "     See: https://github.com/scikit-learn/scikit-learn/issues/21755 */\n",
       "  display: inline-block !important;\n",
       "  position: relative;\n",
       "}\n",
       "\n",
       "#sk-container-id-1 div.sk-text-repr-fallback {\n",
       "  display: none;\n",
       "}\n",
       "\n",
       "div.sk-parallel-item,\n",
       "div.sk-serial,\n",
       "div.sk-item {\n",
       "  /* draw centered vertical line to link estimators */\n",
       "  background-image: linear-gradient(var(--sklearn-color-text-on-default-background), var(--sklearn-color-text-on-default-background));\n",
       "  background-size: 2px 100%;\n",
       "  background-repeat: no-repeat;\n",
       "  background-position: center center;\n",
       "}\n",
       "\n",
       "/* Parallel-specific style estimator block */\n",
       "\n",
       "#sk-container-id-1 div.sk-parallel-item::after {\n",
       "  content: \"\";\n",
       "  width: 100%;\n",
       "  border-bottom: 2px solid var(--sklearn-color-text-on-default-background);\n",
       "  flex-grow: 1;\n",
       "}\n",
       "\n",
       "#sk-container-id-1 div.sk-parallel {\n",
       "  display: flex;\n",
       "  align-items: stretch;\n",
       "  justify-content: center;\n",
       "  background-color: var(--sklearn-color-background);\n",
       "  position: relative;\n",
       "}\n",
       "\n",
       "#sk-container-id-1 div.sk-parallel-item {\n",
       "  display: flex;\n",
       "  flex-direction: column;\n",
       "}\n",
       "\n",
       "#sk-container-id-1 div.sk-parallel-item:first-child::after {\n",
       "  align-self: flex-end;\n",
       "  width: 50%;\n",
       "}\n",
       "\n",
       "#sk-container-id-1 div.sk-parallel-item:last-child::after {\n",
       "  align-self: flex-start;\n",
       "  width: 50%;\n",
       "}\n",
       "\n",
       "#sk-container-id-1 div.sk-parallel-item:only-child::after {\n",
       "  width: 0;\n",
       "}\n",
       "\n",
       "/* Serial-specific style estimator block */\n",
       "\n",
       "#sk-container-id-1 div.sk-serial {\n",
       "  display: flex;\n",
       "  flex-direction: column;\n",
       "  align-items: center;\n",
       "  background-color: var(--sklearn-color-background);\n",
       "  padding-right: 1em;\n",
       "  padding-left: 1em;\n",
       "}\n",
       "\n",
       "\n",
       "/* Toggleable style: style used for estimator/Pipeline/ColumnTransformer box that is\n",
       "clickable and can be expanded/collapsed.\n",
       "- Pipeline and ColumnTransformer use this feature and define the default style\n",
       "- Estimators will overwrite some part of the style using the `sk-estimator` class\n",
       "*/\n",
       "\n",
       "/* Pipeline and ColumnTransformer style (default) */\n",
       "\n",
       "#sk-container-id-1 div.sk-toggleable {\n",
       "  /* Default theme specific background. It is overwritten whether we have a\n",
       "  specific estimator or a Pipeline/ColumnTransformer */\n",
       "  background-color: var(--sklearn-color-background);\n",
       "}\n",
       "\n",
       "/* Toggleable label */\n",
       "#sk-container-id-1 label.sk-toggleable__label {\n",
       "  cursor: pointer;\n",
       "  display: block;\n",
       "  width: 100%;\n",
       "  margin-bottom: 0;\n",
       "  padding: 0.5em;\n",
       "  box-sizing: border-box;\n",
       "  text-align: center;\n",
       "}\n",
       "\n",
       "#sk-container-id-1 label.sk-toggleable__label-arrow:before {\n",
       "  /* Arrow on the left of the label */\n",
       "  content: \"▸\";\n",
       "  float: left;\n",
       "  margin-right: 0.25em;\n",
       "  color: var(--sklearn-color-icon);\n",
       "}\n",
       "\n",
       "#sk-container-id-1 label.sk-toggleable__label-arrow:hover:before {\n",
       "  color: var(--sklearn-color-text);\n",
       "}\n",
       "\n",
       "/* Toggleable content - dropdown */\n",
       "\n",
       "#sk-container-id-1 div.sk-toggleable__content {\n",
       "  max-height: 0;\n",
       "  max-width: 0;\n",
       "  overflow: hidden;\n",
       "  text-align: left;\n",
       "  /* unfitted */\n",
       "  background-color: var(--sklearn-color-unfitted-level-0);\n",
       "}\n",
       "\n",
       "#sk-container-id-1 div.sk-toggleable__content.fitted {\n",
       "  /* fitted */\n",
       "  background-color: var(--sklearn-color-fitted-level-0);\n",
       "}\n",
       "\n",
       "#sk-container-id-1 div.sk-toggleable__content pre {\n",
       "  margin: 0.2em;\n",
       "  border-radius: 0.25em;\n",
       "  color: var(--sklearn-color-text);\n",
       "  /* unfitted */\n",
       "  background-color: var(--sklearn-color-unfitted-level-0);\n",
       "}\n",
       "\n",
       "#sk-container-id-1 div.sk-toggleable__content.fitted pre {\n",
       "  /* unfitted */\n",
       "  background-color: var(--sklearn-color-fitted-level-0);\n",
       "}\n",
       "\n",
       "#sk-container-id-1 input.sk-toggleable__control:checked~div.sk-toggleable__content {\n",
       "  /* Expand drop-down */\n",
       "  max-height: 200px;\n",
       "  max-width: 100%;\n",
       "  overflow: auto;\n",
       "}\n",
       "\n",
       "#sk-container-id-1 input.sk-toggleable__control:checked~label.sk-toggleable__label-arrow:before {\n",
       "  content: \"▾\";\n",
       "}\n",
       "\n",
       "/* Pipeline/ColumnTransformer-specific style */\n",
       "\n",
       "#sk-container-id-1 div.sk-label input.sk-toggleable__control:checked~label.sk-toggleable__label {\n",
       "  color: var(--sklearn-color-text);\n",
       "  background-color: var(--sklearn-color-unfitted-level-2);\n",
       "}\n",
       "\n",
       "#sk-container-id-1 div.sk-label.fitted input.sk-toggleable__control:checked~label.sk-toggleable__label {\n",
       "  background-color: var(--sklearn-color-fitted-level-2);\n",
       "}\n",
       "\n",
       "/* Estimator-specific style */\n",
       "\n",
       "/* Colorize estimator box */\n",
       "#sk-container-id-1 div.sk-estimator input.sk-toggleable__control:checked~label.sk-toggleable__label {\n",
       "  /* unfitted */\n",
       "  background-color: var(--sklearn-color-unfitted-level-2);\n",
       "}\n",
       "\n",
       "#sk-container-id-1 div.sk-estimator.fitted input.sk-toggleable__control:checked~label.sk-toggleable__label {\n",
       "  /* fitted */\n",
       "  background-color: var(--sklearn-color-fitted-level-2);\n",
       "}\n",
       "\n",
       "#sk-container-id-1 div.sk-label label.sk-toggleable__label,\n",
       "#sk-container-id-1 div.sk-label label {\n",
       "  /* The background is the default theme color */\n",
       "  color: var(--sklearn-color-text-on-default-background);\n",
       "}\n",
       "\n",
       "/* On hover, darken the color of the background */\n",
       "#sk-container-id-1 div.sk-label:hover label.sk-toggleable__label {\n",
       "  color: var(--sklearn-color-text);\n",
       "  background-color: var(--sklearn-color-unfitted-level-2);\n",
       "}\n",
       "\n",
       "/* Label box, darken color on hover, fitted */\n",
       "#sk-container-id-1 div.sk-label.fitted:hover label.sk-toggleable__label.fitted {\n",
       "  color: var(--sklearn-color-text);\n",
       "  background-color: var(--sklearn-color-fitted-level-2);\n",
       "}\n",
       "\n",
       "/* Estimator label */\n",
       "\n",
       "#sk-container-id-1 div.sk-label label {\n",
       "  font-family: monospace;\n",
       "  font-weight: bold;\n",
       "  display: inline-block;\n",
       "  line-height: 1.2em;\n",
       "}\n",
       "\n",
       "#sk-container-id-1 div.sk-label-container {\n",
       "  text-align: center;\n",
       "}\n",
       "\n",
       "/* Estimator-specific */\n",
       "#sk-container-id-1 div.sk-estimator {\n",
       "  font-family: monospace;\n",
       "  border: 1px dotted var(--sklearn-color-border-box);\n",
       "  border-radius: 0.25em;\n",
       "  box-sizing: border-box;\n",
       "  margin-bottom: 0.5em;\n",
       "  /* unfitted */\n",
       "  background-color: var(--sklearn-color-unfitted-level-0);\n",
       "}\n",
       "\n",
       "#sk-container-id-1 div.sk-estimator.fitted {\n",
       "  /* fitted */\n",
       "  background-color: var(--sklearn-color-fitted-level-0);\n",
       "}\n",
       "\n",
       "/* on hover */\n",
       "#sk-container-id-1 div.sk-estimator:hover {\n",
       "  /* unfitted */\n",
       "  background-color: var(--sklearn-color-unfitted-level-2);\n",
       "}\n",
       "\n",
       "#sk-container-id-1 div.sk-estimator.fitted:hover {\n",
       "  /* fitted */\n",
       "  background-color: var(--sklearn-color-fitted-level-2);\n",
       "}\n",
       "\n",
       "/* Specification for estimator info (e.g. \"i\" and \"?\") */\n",
       "\n",
       "/* Common style for \"i\" and \"?\" */\n",
       "\n",
       ".sk-estimator-doc-link,\n",
       "a:link.sk-estimator-doc-link,\n",
       "a:visited.sk-estimator-doc-link {\n",
       "  float: right;\n",
       "  font-size: smaller;\n",
       "  line-height: 1em;\n",
       "  font-family: monospace;\n",
       "  background-color: var(--sklearn-color-background);\n",
       "  border-radius: 1em;\n",
       "  height: 1em;\n",
       "  width: 1em;\n",
       "  text-decoration: none !important;\n",
       "  margin-left: 1ex;\n",
       "  /* unfitted */\n",
       "  border: var(--sklearn-color-unfitted-level-1) 1pt solid;\n",
       "  color: var(--sklearn-color-unfitted-level-1);\n",
       "}\n",
       "\n",
       ".sk-estimator-doc-link.fitted,\n",
       "a:link.sk-estimator-doc-link.fitted,\n",
       "a:visited.sk-estimator-doc-link.fitted {\n",
       "  /* fitted */\n",
       "  border: var(--sklearn-color-fitted-level-1) 1pt solid;\n",
       "  color: var(--sklearn-color-fitted-level-1);\n",
       "}\n",
       "\n",
       "/* On hover */\n",
       "div.sk-estimator:hover .sk-estimator-doc-link:hover,\n",
       ".sk-estimator-doc-link:hover,\n",
       "div.sk-label-container:hover .sk-estimator-doc-link:hover,\n",
       ".sk-estimator-doc-link:hover {\n",
       "  /* unfitted */\n",
       "  background-color: var(--sklearn-color-unfitted-level-3);\n",
       "  color: var(--sklearn-color-background);\n",
       "  text-decoration: none;\n",
       "}\n",
       "\n",
       "div.sk-estimator.fitted:hover .sk-estimator-doc-link.fitted:hover,\n",
       ".sk-estimator-doc-link.fitted:hover,\n",
       "div.sk-label-container:hover .sk-estimator-doc-link.fitted:hover,\n",
       ".sk-estimator-doc-link.fitted:hover {\n",
       "  /* fitted */\n",
       "  background-color: var(--sklearn-color-fitted-level-3);\n",
       "  color: var(--sklearn-color-background);\n",
       "  text-decoration: none;\n",
       "}\n",
       "\n",
       "/* Span, style for the box shown on hovering the info icon */\n",
       ".sk-estimator-doc-link span {\n",
       "  display: none;\n",
       "  z-index: 9999;\n",
       "  position: relative;\n",
       "  font-weight: normal;\n",
       "  right: .2ex;\n",
       "  padding: .5ex;\n",
       "  margin: .5ex;\n",
       "  width: min-content;\n",
       "  min-width: 20ex;\n",
       "  max-width: 50ex;\n",
       "  color: var(--sklearn-color-text);\n",
       "  box-shadow: 2pt 2pt 4pt #999;\n",
       "  /* unfitted */\n",
       "  background: var(--sklearn-color-unfitted-level-0);\n",
       "  border: .5pt solid var(--sklearn-color-unfitted-level-3);\n",
       "}\n",
       "\n",
       ".sk-estimator-doc-link.fitted span {\n",
       "  /* fitted */\n",
       "  background: var(--sklearn-color-fitted-level-0);\n",
       "  border: var(--sklearn-color-fitted-level-3);\n",
       "}\n",
       "\n",
       ".sk-estimator-doc-link:hover span {\n",
       "  display: block;\n",
       "}\n",
       "\n",
       "/* \"?\"-specific style due to the `<a>` HTML tag */\n",
       "\n",
       "#sk-container-id-1 a.estimator_doc_link {\n",
       "  float: right;\n",
       "  font-size: 1rem;\n",
       "  line-height: 1em;\n",
       "  font-family: monospace;\n",
       "  background-color: var(--sklearn-color-background);\n",
       "  border-radius: 1rem;\n",
       "  height: 1rem;\n",
       "  width: 1rem;\n",
       "  text-decoration: none;\n",
       "  /* unfitted */\n",
       "  color: var(--sklearn-color-unfitted-level-1);\n",
       "  border: var(--sklearn-color-unfitted-level-1) 1pt solid;\n",
       "}\n",
       "\n",
       "#sk-container-id-1 a.estimator_doc_link.fitted {\n",
       "  /* fitted */\n",
       "  border: var(--sklearn-color-fitted-level-1) 1pt solid;\n",
       "  color: var(--sklearn-color-fitted-level-1);\n",
       "}\n",
       "\n",
       "/* On hover */\n",
       "#sk-container-id-1 a.estimator_doc_link:hover {\n",
       "  /* unfitted */\n",
       "  background-color: var(--sklearn-color-unfitted-level-3);\n",
       "  color: var(--sklearn-color-background);\n",
       "  text-decoration: none;\n",
       "}\n",
       "\n",
       "#sk-container-id-1 a.estimator_doc_link.fitted:hover {\n",
       "  /* fitted */\n",
       "  background-color: var(--sklearn-color-fitted-level-3);\n",
       "}\n",
       "</style><div id=\"sk-container-id-1\" class=\"sk-top-container\"><div class=\"sk-text-repr-fallback\"><pre>DecisionTreeClassifier(criterion=&#x27;entropy&#x27;, random_state=28)</pre><b>In a Jupyter environment, please rerun this cell to show the HTML representation or trust the notebook. <br />On GitHub, the HTML representation is unable to render, please try loading this page with nbviewer.org.</b></div><div class=\"sk-container\" hidden><div class=\"sk-item\"><div class=\"sk-estimator fitted sk-toggleable\"><input class=\"sk-toggleable__control sk-hidden--visually\" id=\"sk-estimator-id-1\" type=\"checkbox\" checked><label for=\"sk-estimator-id-1\" class=\"sk-toggleable__label fitted sk-toggleable__label-arrow fitted\">&nbsp;&nbsp;DecisionTreeClassifier<a class=\"sk-estimator-doc-link fitted\" rel=\"noreferrer\" target=\"_blank\" href=\"https://scikit-learn.org/1.4/modules/generated/sklearn.tree.DecisionTreeClassifier.html\">?<span>Documentation for DecisionTreeClassifier</span></a><span class=\"sk-estimator-doc-link fitted\">i<span>Fitted</span></span></label><div class=\"sk-toggleable__content fitted\"><pre>DecisionTreeClassifier(criterion=&#x27;entropy&#x27;, random_state=28)</pre></div> </div></div></div></div>"
      ],
      "text/plain": [
       "DecisionTreeClassifier(criterion='entropy', random_state=28)"
      ]
     },
     "execution_count": 23,
     "metadata": {},
     "output_type": "execute_result"
    }
   ],
   "source": [
    "# Instantiate the decision tree\n",
    "classifier = DecisionTreeClassifier(criterion='entropy', random_state=28)\n",
    "classifier.fit(X_train_transformed, y_train)"
   ]
  },
  {
   "cell_type": "code",
   "execution_count": 24,
   "metadata": {},
   "outputs": [],
   "source": [
    "# Make predictions for train data\n",
    "y_pred_train = classifier.predict(X_train_transformed)\n",
    "\n",
    "# Make predictions for test data\n",
    "y_pred_test = classifier.predict(X_test_transformed)"
   ]
  },
  {
   "cell_type": "markdown",
   "metadata": {},
   "source": [
    "Next, we'll evaluate the performance of the trained decision tree classifier on the training and test data. Here's the metrics I will use to evaluate the model: Accuracy, Precision, AUC and printing the confusion matrix."
   ]
  },
  {
   "cell_type": "code",
   "execution_count": 25,
   "metadata": {},
   "outputs": [
    {
     "name": "stdout",
     "output_type": "stream",
     "text": [
      "Accuracy is :99.33838123943248\n",
      "\n",
      "Precision is :99.50823421774932\n",
      "\n",
      "AUC is :0.99\n",
      "\n",
      "Confusion Matrix\n",
      "----------------\n"
     ]
    },
    {
     "data": {
      "image/png": "[encoded data removed]",
      "text/plain": [
       "<Figure size 640x480 with 2 Axes>"
      ]
     },
     "metadata": {},
     "output_type": "display_data"
    }
   ],
   "source": [
    "# Evaluate for train set\n",
    "# Calculate accuracy \n",
    "acc = accuracy_score(y_train,y_pred_train) * 100\n",
    "print('Accuracy is :{0}'.format(acc))\n",
    "\n",
    "# Calculate precision \n",
    "prec = precision_score(y_train,y_pred_train) * 100\n",
    "print('\\nPrecision is :{0}'.format(prec))\n",
    "\n",
    "# Check the AUC for predictions\n",
    "false_positive_rate, true_positive_rate, thresholds = roc_curve(y_train, y_pred_train)\n",
    "roc_auc = auc(false_positive_rate, true_positive_rate)\n",
    "print('\\nAUC is :{0}'.format(round(roc_auc, 2)))\n",
    "\n",
    "# Create and print a confusion matrix \n",
    "print('\\nConfusion Matrix')\n",
    "print('----------------')\n",
    "cm_train = confusion_matrix(y_train, y_pred_train)\n",
    "\n",
    "cm_train_disp = ConfusionMatrixDisplay(confusion_matrix=cm_train,\n",
    "                                      display_labels=classifier.classes_)\n",
    "cm_train_disp.plot(cmap=plt.cm.Greens);"
   ]
  },
  {
   "cell_type": "code",
   "execution_count": 26,
   "metadata": {},
   "outputs": [
    {
     "name": "stdout",
     "output_type": "stream",
     "text": [
      "Accuracy is :87.16506781343037\n",
      "\n",
      "Precision is :81.35198135198135\n",
      "\n",
      "AUC is :0.85\n",
      "\n",
      "Confusion Matrix\n",
      "----------------\n"
     ]
    },
    {
     "data": {
      "image/png": "[encoded data removed]",
      "text/plain": [
       "<Figure size 640x480 with 2 Axes>"
      ]
     },
     "metadata": {},
     "output_type": "display_data"
    }
   ],
   "source": [
    "# Evaluate for test set\n",
    "# Calculate accuracy \n",
    "acc = accuracy_score(y_test,y_pred_test) * 100\n",
    "print('Accuracy is :{0}'.format(acc))\n",
    "\n",
    "# Calculate precision \n",
    "prec = precision_score(y_test,y_pred_test) * 100\n",
    "print('\\nPrecision is :{0}'.format(prec))\n",
    "\n",
    "# Check the AUC for predictions\n",
    "false_positive_rate, true_positive_rate, thresholds = roc_curve(y_test, y_pred_test)\n",
    "roc_auc = auc(false_positive_rate, true_positive_rate)\n",
    "print('\\nAUC is :{0}'.format(round(roc_auc, 2)))\n",
    "\n",
    "# Create and print a confusion matrix \n",
    "print('\\nConfusion Matrix')\n",
    "print('----------------')\n",
    "cm_test = confusion_matrix(y_test, y_pred_test)\n",
    "\n",
    "cm_test_disp = ConfusionMatrixDisplay(confusion_matrix=cm_test,\n",
    "                                      display_labels=classifier.classes_)\n",
    "cm_test_disp.plot(cmap=plt.cm.Blues);"
   ]
  },
  {
   "cell_type": "markdown",
   "metadata": {},
   "source": [
    "The metrics printed above indicate that the decision tree classifier performed exceptionally well on the training set, with an **accuracy of 99.34%**, a **precision of 99.51%**, and an **AUC of 0.99**. This suggests that the model is almost perfectly predicting the training data. However, on the test set, the performance drops, with an **accuracy of 87.17%**, a **precision of 81.35%**, and an **AUC of 0.85**. This discrepancy suggests that the model may be overfitting the training data, meaning it has learned to model the training data too well and is not generalizing effectively to unseen data."
   ]
  },
  {
   "cell_type": "markdown",
   "metadata": {},
   "source": [
    "I need to boost the precision score since 81% isn’t quite where we want it to be. Our goal is to accurately predict room cancellations so the hotel can manage overselling without risking a lack of space for guests.\n",
    "\n",
    "In this context, it’s better to have false negatives than false positives. A false positive would mean predicting a guest will cancel when they actually show up, leading to overbooking and potential issues. Conversely, a false negative would involve predicting a guest will keep their reservation, but they end up canceling. Avoiding false positives is crucial to prevent the hotel from overselling and facing a shortage of rooms.\n",
    "\n",
    "Here are the next steps I'll take o try to improve the performance of the decision tree: \n",
    "\n",
    "- Maximum Depth: To reduce overfitting, I’ll limit the tree’s depth. Testing shows that a max depth of 7 provides a good balance, improving precision while keeping accuracy and AUC stable.\n",
    "- Minimum Samples for Split: Requiring a minimum number of samples to split a node doesn’t improve the model’s performance, so I’ll skip this parameter in the final model.\n",
    "- Minimum Samples per Leaf: Setting a minimum number of samples for leaf nodes doesn’t enhance the model either, so I’ll exclude it.\n",
    "- Maximum Features: Limiting the number of features considered during splits also doesn’t add value, so this parameter won’t be included in the final version."
   ]
  },
  {
   "cell_type": "code",
   "execution_count": 27,
   "metadata": {},
   "outputs": [],
   "source": [
    "# Identify the optimal tree depth for the train data\n",
    "acc_train = []\n",
    "prec_train = []\n",
    "aucs_train = []\n",
    "\n",
    "for i in range(1, 31):\n",
    "    classifier = DecisionTreeClassifier(criterion='entropy', max_depth=i, random_state=28)\n",
    "    classifier.fit(X_train_transformed, y_train)\n",
    "    y_pred_train = classifier.predict(X_train_transformed)\n",
    "    \n",
    "    acc_score = accuracy_score(y_train,y_pred_train) * 100\n",
    "    \n",
    "    prec_score = precision_score(y_train,y_pred_train) * 100\n",
    "    \n",
    "    false_positive_rate, true_positive_rate, thresholds = roc_curve(y_train,y_pred_train)\n",
    "    roc_auc = auc(false_positive_rate, true_positive_rate)\n",
    "    \n",
    "    acc_train.append(acc_score)\n",
    "    prec_train.append(prec_score)\n",
    "    aucs_train.append(roc_auc)"
   ]
  },
  {
   "cell_type": "code",
   "execution_count": 28,
   "metadata": {},
   "outputs": [],
   "source": [
    "# Identify the optimal tree depth for the test data\n",
    "acc = []\n",
    "prec = []\n",
    "aucs = []\n",
    "\n",
    "for i in range(1, 31):\n",
    "    classifier = DecisionTreeClassifier(criterion='entropy', max_depth=i, random_state=28)\n",
    "    classifier.fit(X_train_transformed, y_train)\n",
    "    y_pred_test = classifier.predict(X_test_transformed)\n",
    "    \n",
    "    acc_score = accuracy_score(y_test,y_pred_test) * 100\n",
    "    \n",
    "    prec_score = precision_score(y_test,y_pred_test) * 100\n",
    "    \n",
    "    false_positive_rate, true_positive_rate, thresholds = roc_curve(y_test, y_pred_test)\n",
    "    roc_auc = auc(false_positive_rate, true_positive_rate)\n",
    "    \n",
    "    acc.append(acc_score)\n",
    "    prec.append(prec_score)\n",
    "    aucs.append(roc_auc)"
   ]
  },
  {
   "cell_type": "code",
   "execution_count": 30,
   "metadata": {},
   "outputs": [
    {
     "data": {
      "image/png": "[encoded data removed]",
      "text/plain": [
       "<Figure size 1800x400 with 3 Axes>"
      ]
     },
     "metadata": {},
     "output_type": "display_data"
    }
   ],
   "source": [
    "# Create a figure with 1 row and 3 columns\n",
    "fig, ax = plt.subplots(1, 3, figsize=(18, 4))\n",
    "\n",
    "# Plot accuracy for train and test data given various tree depths\n",
    "ax[0].plot(np.linspace(0, 31, 30), acc_train, label='Train Accuracy', c='green')\n",
    "ax[0].plot(np.linspace(0, 31, 30), acc, label='Test Accuracy', c='blue')\n",
    "ax[0].set_xlabel('Tree Depth')\n",
    "ax[0].set_ylabel('Accuracy')\n",
    "ax[0].legend()\n",
    "\n",
    "# Plot precision for train and test data given various tree depths\n",
    "ax[1].plot(np.linspace(0, 31, 30), prec_train, label='Train Precision', c='green')\n",
    "ax[1].plot(np.linspace(0, 31, 30), prec, label='Test Precision', c='blue')\n",
    "ax[1].set_xlabel('Tree Depth')\n",
    "ax[1].set_ylabel('Precision')\n",
    "ax[1].legend()\n",
    "\n",
    "# Plot AUC for train and test data given various tree depths\n",
    "ax[2].plot(np.linspace(0, 31, 30), aucs_train, label='Train AUC', c='green')\n",
    "ax[2].plot(np.linspace(0, 31, 30), aucs, label='Test AUC', c='blue')\n",
    "ax[2].set_xlabel('Tree Depth')\n",
    "ax[2].set_ylabel('AUC')\n",
    "ax[2].legend()\n",
    "\n",
    "# Adjust layout to prevent overlap\n",
    "plt.tight_layout()\n",
    "\n",
    "# Show the plots\n",
    "plt.show()"
   ]
  }
 ],
 "metadata": {
  "kernelspec": {
   "display_name": "learn-env",
   "language": "python",
   "name": "python3"
  },
  "language_info": {
   "codemirror_mode": {
    "name": "ipython",
    "version": 3
   },
   "file_extension": ".py",
   "mimetype": "text/x-python",
   "name": "python",
   "nbconvert_exporter": "python",
   "pygments_lexer": "ipython3",
   "version": "3.10.14"
  }
 },
 "nbformat": 4,
 "nbformat_minor": 2
}
